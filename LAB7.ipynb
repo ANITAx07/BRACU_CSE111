{
  "nbformat": 4,
  "nbformat_minor": 0,
  "metadata": {
    "colab": {
      "provenance": []
    },
    "kernelspec": {
      "name": "python3",
      "display_name": "Python 3"
    },
    "language_info": {
      "name": "python"
    }
  },
  "cells": [
    {
      "cell_type": "code",
      "execution_count": null,
      "metadata": {
        "colab": {
          "base_uri": "https://localhost:8080/"
        },
        "id": "reOnkGJM2n9m",
        "outputId": "c5f1344e-e829-4251-f54a-e6c3fdfab3e8"
      },
      "outputs": [
        {
          "output_type": "stream",
          "name": "stdout",
          "text": [
            "Name: default Department: BBA\n",
            "Name: Humpty Dumpty Department: BBA\n",
            "Name: Little Bo Peep Department: BBA\n"
          ]
        }
      ],
      "source": [
        "#1\n",
        "class Student:\n",
        "    def __init__(self, name='Just a student', dept='nothing'):\n",
        "        self.__name = name\n",
        "        self.__department = dept\n",
        "    def set_department(self, dept):\n",
        "        self.__department = dept\n",
        "    def get_name(self):\n",
        "        return self.__name\n",
        "    def set_name(self,name):\n",
        "        self.__name = name\n",
        "    def __str__(self):\n",
        "        return 'Name: '+self.__name+' Department: '+self.__department\n",
        "\n",
        "class BBA_Student(Student):\n",
        "  def __init__(self,name='default',dept='BBA'):\n",
        "    super().__init__(name,dept)\n",
        "\n",
        "#write your code here\n",
        "\n",
        "print(BBA_Student())\n",
        "print(BBA_Student('Humpty Dumpty'))\n",
        "print(BBA_Student('Little Bo Peep'))"
      ]
    },
    {
      "cell_type": "code",
      "source": [
        "#2\n",
        "class Vehicle:\n",
        "    def __init__(self):\n",
        "        self.x = 0\n",
        "        self.y = 0\n",
        "    def moveUp(self):\n",
        "        self.y+=1\n",
        "    def moveDown(self):\n",
        "        self.y-=1\n",
        "    def moveRight(self):\n",
        "        self.x+=1\n",
        "    def moveLeft(self):\n",
        "        self.x-=1\n",
        "    def __str__(self):\n",
        "        return '('+str(self.x)+' , '+str(self.y)+')'\n",
        "#write your code here\n",
        "class  Vehicle2010(Vehicle):\n",
        "\n",
        "   def moveUpperRight(self):\n",
        "     super().moveUp()\n",
        "     super().moveRight()\n",
        "\n",
        "   def moveUpperLeft(self):\n",
        "     super().moveUp()\n",
        "     super().moveLeft()\n",
        "\n",
        "   def moveLowerRight(self):\n",
        "     super().moveDown()\n",
        "     super().moveRight()\n",
        "\n",
        "   def moveLowerLeft(self):\n",
        "     super().moveDown()\n",
        "     super().moveLeft()\n",
        "   def equals(self,other):\n",
        "     if self.x==other.x and self.y==other.y:\n",
        "       return True\n",
        "     else:\n",
        "       return False\n",
        "print('Part 1')\n",
        "print('------')\n",
        "car = Vehicle()\n",
        "print(car)\n",
        "car.moveUp()\n",
        "print(car)\n",
        "car.moveLeft()\n",
        "print(car)\n",
        "car.moveDown()\n",
        "print(car)\n",
        "car.moveRight()\n",
        "print(car)\n",
        "print('------')\n",
        "print('Part 2')\n",
        "print('------')\n",
        "car1 = Vehicle2010()\n",
        "print(car1)\n",
        "car1.moveLowerLeft()\n",
        "print(car1)\n",
        "car2 = Vehicle2010()\n",
        "car2.moveLeft()\n",
        "print(car1.equals(car2))\n",
        "car2.moveDown()\n",
        "print(car1.equals(car2))"
      ],
      "metadata": {
        "colab": {
          "base_uri": "https://localhost:8080/"
        },
        "id": "mn04d3zo3_0q",
        "outputId": "5fdd101a-391f-4b20-ef5f-43921e58c17a"
      },
      "execution_count": null,
      "outputs": [
        {
          "output_type": "stream",
          "name": "stdout",
          "text": [
            "Part 1\n",
            "------\n",
            "(0 , 0)\n",
            "(0 , 1)\n",
            "(-1 , 1)\n",
            "(-1 , 0)\n",
            "(0 , 0)\n",
            "------\n",
            "Part 2\n",
            "------\n",
            "(0 , 0)\n",
            "(-1 , -1)\n",
            "False\n",
            "True\n"
          ]
        }
      ]
    },
    {
      "cell_type": "code",
      "source": [
        "#3\n",
        "class Tournament:\n",
        "    def __init__(self,name='Default'):\n",
        "        self.__name = name\n",
        "    def set_name(self,name):\n",
        "        self.__name = name\n",
        "    def get_name(self):\n",
        "        return self.__name\n",
        "\n",
        "class  Cricket_Tournament(Tournament):\n",
        "  def __init__(self,name='Default',teams=0,typ=' No type'):\n",
        "   super().__init__(name)\n",
        "   self.teams=teams\n",
        "   self.typ=typ\n",
        "\n",
        "  def detail(self):\n",
        "    name= super().get_name()\n",
        "    print(f'Cricket Tournament Name:{name}')\n",
        "    print (f'Number of Teams:{self.teams}')\n",
        "    return f'Type:{self.typ}'\n",
        "\n",
        "class Tennis_Tournament(Tournament) :\n",
        "  def __init__(self,name,no_of_players):\n",
        "    super().__init__(name)\n",
        "    self.no_of_players=no_of_players\n",
        "  def detail(self):\n",
        "    name=super().get_name()\n",
        "    return f'Tennis Tournament Name:{self.get_name()}\\nNumber of Players:{self.no_of_players}'\n",
        "\n",
        "\n",
        "ct1 = Cricket_Tournament()\n",
        "print(ct1.detail())\n",
        "print(\"-----------------------\")\n",
        "ct2 = Cricket_Tournament(\"IPL\",10,\"t20\")\n",
        "print(ct2.detail())\n",
        "print(\"-----------------------\")\n",
        "tt = Tennis_Tournament(\"Roland Garros\",128)\n",
        "print(tt.detail())\n"
      ],
      "metadata": {
        "colab": {
          "base_uri": "https://localhost:8080/"
        },
        "id": "FU2LTJC1DzVy",
        "outputId": "3191360d-54f5-485a-a8d2-3f905239a857"
      },
      "execution_count": null,
      "outputs": [
        {
          "output_type": "stream",
          "name": "stdout",
          "text": [
            "Cricket Tournament Name:Default\n",
            "Number of Teams:0\n",
            "Type: No type\n",
            "-----------------------\n",
            "Cricket Tournament Name:IPL\n",
            "Number of Teams:10\n",
            "Type:t20\n",
            "-----------------------\n",
            "Tennis Tournament Name:Roland Garros\n",
            "Number of Players:128\n"
          ]
        }
      ]
    },
    {
      "cell_type": "code",
      "source": [
        "#4\n",
        "\n",
        "class Product:\n",
        "    def __init__(self,id, title, price):\n",
        "        self.__id = id\n",
        "        self.__title = title\n",
        "        self.__price = price\n",
        "    def get_id_title_price(self):\n",
        "        return \"ID: \"+str(self.__id)+\" Title:\"+self.__title+ \"Price: \"+str(self.__price)\n",
        "\n",
        "class Book(Product):\n",
        "   def __init__(self,id,title,price,ISBN,publ):\n",
        "     super().__init__(id,title,price)\n",
        "     self.ISBN=ISBN\n",
        "     self.publ=publ\n",
        "   def printDetail(self):\n",
        "      name=super().get_id_title_price()\n",
        "      print(name)\n",
        "      return f'ISBN:{self.ISBN}\\nPublisher:{self.publ}'\n",
        "class CD(Product):\n",
        "     def __init__(self,id,title,price,band,dur,genre):\n",
        "        super().__init__(id,title,price)\n",
        "        self.band=band\n",
        "        self.dur=dur\n",
        "        self.genre=genre\n",
        "     def printDetail(self):\n",
        "       name=super().get_id_title_price()\n",
        "       print(name)\n",
        "       return f'Band:{self.band}\\nDuration:{self.dur}\\nGenre:{self.genre}'\n",
        "book = Book(1,\"The Alchemist\",500,\"97806\",\"HarperCollins\")\n",
        "print(book.printDetail())\n",
        "print(\"-----------------------\")\n",
        "cd = CD(2,\"Shotto\",300,\"Warfaze\",50,\"Hard Rock\")\n",
        "print(cd.printDetail())\n"
      ],
      "metadata": {
        "colab": {
          "base_uri": "https://localhost:8080/"
        },
        "id": "iRfRh1ZrIxZg",
        "outputId": "b0e9effc-1585-4459-d4fc-087358741e6f"
      },
      "execution_count": null,
      "outputs": [
        {
          "output_type": "stream",
          "name": "stdout",
          "text": [
            "ID: 1 Title:The Alchemist Price: 500\n",
            "ISBN:97806\n",
            "Publisher:HarperCollins\n",
            "-----------------------\n",
            "ID: 2 Title:Shotto Price: 300\n",
            "Band:Warfaze\n",
            "Duration:50\n",
            "Genre:Hard Rock\n"
          ]
        }
      ]
    },
    {
      "cell_type": "code",
      "source": [
        "#5\n",
        "class Animal:\n",
        "    def __init__(self,sound):\n",
        "        self.__sound = sound\n",
        "\n",
        "    def makeSound(self):\n",
        "        return self.__sound\n",
        "\n",
        "\n",
        "\n",
        "class Printer:\n",
        "    def printSound(self, a):\n",
        "        print(a.makeSound())\n",
        "\n",
        "\n",
        "class Dog(Animal):\n",
        "  def __init__(self,sound):\n",
        "    super().__init__(sound)\n",
        "class Cat(Animal):\n",
        "  def __init__(self,sound):\n",
        "    super().__init__(sound)\n",
        "\n",
        "d1 = Dog('bark')\n",
        "c1 = Cat('meow')\n",
        "a1 = Animal('Animal does not make sound')\n",
        "pr = Printer()\n",
        "pr.printSound(a1)\n",
        "pr.printSound(c1)\n",
        "pr.printSound(d1)\n",
        "\n"
      ],
      "metadata": {
        "colab": {
          "base_uri": "https://localhost:8080/"
        },
        "id": "DoQinW-5OIKz",
        "outputId": "f633d227-506c-4c51-ab4d-9c909d6fbe49"
      },
      "execution_count": null,
      "outputs": [
        {
          "output_type": "stream",
          "name": "stdout",
          "text": [
            "Animal does not make sound\n",
            "meow\n",
            "bark\n"
          ]
        }
      ]
    },
    {
      "cell_type": "code",
      "source": [
        "#6\n",
        "class Shape:\n",
        "    def __init__(self, name=\"Default\", height=0, base=0):\n",
        "        self.area = 0\n",
        "        self.name = name\n",
        "        self.height = height\n",
        "        self.base = base\n",
        "\n",
        "    def get_height_base(self):\n",
        "        return \"Height: \" + str(self.height) + \", Base: \" + str(self.base)\n",
        "\n",
        "\n",
        "class triangle(Shape):\n",
        "    def calcArea(self):\n",
        "        self.area = (self.height * self.base) / 2\n",
        "    def printDetail(self):\n",
        "      return f\"Shape name: {self.name}\\n\"  +  super().get_height_base()  +  f\"\\nArea: {self.area}\"\n",
        "\n",
        "class trapezoid(Shape):\n",
        "    def __init__(self, name, height, base, side_A):\n",
        "        super().__init__(name, height, base)\n",
        "        self.side_A = side_A\n",
        "\n",
        "    def calcArea(self):\n",
        "        self.area = ((self.base + self.side_A) / 2) * self.height\n",
        "\n",
        "    def printDetail(self):\n",
        "        return f\"Shape name: {self.name}\\n\" + super().get_height_base()+ f\" Side_A: {self.side_A}\"+ f\"\\nArea: {self.area}\"\n",
        "\n",
        "tri_default = triangle()\n",
        "tri_default.calcArea()\n",
        "print(tri_default.printDetail())\n",
        "print('--------------------------')\n",
        "tri = triangle('Triangle', 10, 5)\n",
        "tri.calcArea()\n",
        "print(tri.printDetail())\n",
        "trap = trapezoid('Trapezoid', 10, 6, 4)\n",
        "trap.calcArea()\n",
        "print(trap.printDetail())\n",
        "\n"
      ],
      "metadata": {
        "colab": {
          "base_uri": "https://localhost:8080/"
        },
        "id": "j0WPsQ31P_ob",
        "outputId": "d36e0609-3ad0-44ea-e440-9635ffd9b4c2"
      },
      "execution_count": null,
      "outputs": [
        {
          "output_type": "stream",
          "name": "stdout",
          "text": [
            "Shape name: Default\n",
            "Height: 0, Base: 0\n",
            "Area: 0.0\n",
            "--------------------------\n",
            "Shape name: Triangle\n",
            "Height: 10, Base: 5\n",
            "Area: 25.0\n",
            "Shape name: Trapezoid\n",
            "Height: 10, Base: 6, Side_A: 4\n",
            "Area: 50.0\n"
          ]
        }
      ]
    },
    {
      "cell_type": "code",
      "source": [
        "#7\n",
        "class Football:\n",
        "    def __init__(self, team_name, name, role):\n",
        "        self.__team = team_name\n",
        "        self.__name = name\n",
        "        self.role = role\n",
        "        self.earning_per_match = 0\n",
        "\n",
        "    def get_name_team(self):\n",
        "        return \"Name: \" + self.__name + \", Team Name: \" + self.__team\n",
        "\n",
        "\n",
        "class Player(Football):\n",
        "    def __init__(self, team_name, name, role, goal, played):\n",
        "        super().__init__(team_name, name, role)\n",
        "        self.goal = goal\n",
        "        self.played = played\n",
        "\n",
        "    def calculate_ratio(self):\n",
        "        self.ratio = self.goal / self.played\n",
        "\n",
        "    def print_details(self):\n",
        "        earning = (self.goal * 1000) + (self.played * 10)\n",
        "        print(super().get_name_team())\n",
        "        print(f\"Team Role: {self.role}\")\n",
        "        print(f\"Total Goal: {self.goal}, Total Played: {self.played}\")\n",
        "        print(f\"Goal Ratio: {self.ratio}\")\n",
        "        print(f\"Match Earning: {earning}K\")\n",
        "\n",
        "\n",
        "class Manager(Football):\n",
        "    def __init__(self, team_name, name, role, win):\n",
        "        super().__init__(team_name, name, role)\n",
        "        self.win = win\n",
        "\n",
        "    def print_details(self):\n",
        "        earning = self.win * 1000\n",
        "        print(super().get_name_team())\n",
        "        print(f\"Team Role: {self.role}\")\n",
        "        print(f\"Win: {self.win}\")\n",
        "        print(f\"Match Earning: {earning}K\")\n",
        "\n",
        "\n",
        "player_one = Player(\"Juventus\", \"Ronaldo\", \"Striker\", 25, 32)\n",
        "player_one.calculate_ratio()\n",
        "player_one.print_details()\n",
        "print(\"------------------------------------------\")\n",
        "manager_one = Manager(\"Real Madrid\", \"Zidane\", \"Manager\", 25)\n",
        "manager_one.print_details()"
      ],
      "metadata": {
        "colab": {
          "base_uri": "https://localhost:8080/"
        },
        "id": "I4vLd__GS1s6",
        "outputId": "63a3b3c4-b4d7-4a6d-9bd8-e6f7c25d4e6d"
      },
      "execution_count": null,
      "outputs": [
        {
          "output_type": "stream",
          "name": "stdout",
          "text": [
            "Name: Ronaldo, Team Name: Juventus\n",
            "Team Role: Striker\n",
            "Total Goal: 25, Total Played: 32\n",
            "Goal Ratio: 0.78125\n",
            "Match Earning: 25320K\n",
            "------------------------------------------\n",
            "Name: Zidane, Team Name: Real Madrid\n",
            "Team Role: Manager\n",
            "Win: 25\n",
            "Match Earning: 25000K\n"
          ]
        }
      ]
    }
  ]
}