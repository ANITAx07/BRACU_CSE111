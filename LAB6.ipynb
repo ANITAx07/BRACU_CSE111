{
  "nbformat": 4,
  "nbformat_minor": 0,
  "metadata": {
    "colab": {
      "provenance": []
    },
    "kernelspec": {
      "name": "python3",
      "display_name": "Python 3"
    },
    "language_info": {
      "name": "python"
    }
  },
  "cells": [
    {
      "cell_type": "code",
      "source": [
        "#1\n",
        "class Student:\n",
        "  id=0\n",
        "  def __init__(self,name,dep,age,cgpa):\n",
        "   self.name=name\n",
        "   self.dep=dep\n",
        "   self.age=age\n",
        "   self.cgpa=cgpa\n",
        "   Student.id+=1\n",
        "\n",
        "  def showDetails(self):\n",
        "    print(f'ID:{Student.id}')\n",
        "    print(f'Name:{self.name}')\n",
        "    print(f'Department:{self.dep}')\n",
        "    print(f'Age:{self.age}')\n",
        "    print(f'CGPA:{self.cgpa}')\n",
        "\n",
        "  @classmethod\n",
        "  def from_String(cls,s):\n",
        "    name,dep,age,cgpa=s.split('-')\n",
        "    return cls(name,dep,int(age),float(cgpa))\n",
        "\n",
        "s1 = Student(\"Samin\", \"CSE\", 21, 3.91)\n",
        "s1.showDetails()\n",
        "print(\"-----------------------\")\n",
        "s2 = Student(\"Fahim\", \"ECE\", 21, 3.85)\n",
        "s2.showDetails()\n",
        "print(\"-----------------------\")\n",
        "s3 = Student(\"Tahura\", \"EEE\", 22, 3.01)\n",
        "s3.showDetails()\n",
        "print(\"-----------------------\")\n",
        "s4 = Student.from_String(\"Sumaiya-BBA-23-3.96\")\n",
        "s4.showDetails()"
      ],
      "metadata": {
        "colab": {
          "base_uri": "https://localhost:8080/"
        },
        "id": "pcJdwwWRYYBG",
        "outputId": "5cbf1a43-c78c-4b34-a446-a59095180686"
      },
      "execution_count": null,
      "outputs": [
        {
          "output_type": "stream",
          "name": "stdout",
          "text": [
            "ID:1\n",
            "Name:Samin\n",
            "Department:CSE\n",
            "Age:21\n",
            "CGPA:3.91\n",
            "-----------------------\n",
            "ID:2\n",
            "Name:Fahim\n",
            "Department:ECE\n",
            "Age:21\n",
            "CGPA:3.85\n",
            "-----------------------\n",
            "ID:3\n",
            "Name:Tahura\n",
            "Department:EEE\n",
            "Age:22\n",
            "CGPA:3.01\n",
            "-----------------------\n",
            "ID:4\n",
            "Name:Sumaiya\n",
            "Department:BBA\n",
            "Age:23\n",
            "CGPA:3.96\n"
          ]
        }
      ]
    },
    {
      "cell_type": "code",
      "source": [],
      "metadata": {
        "id": "0tRlhY4fdHEI"
      },
      "execution_count": null,
      "outputs": []
    },
    {
      "cell_type": "code",
      "execution_count": null,
      "metadata": {
        "colab": {
          "base_uri": "https://localhost:8080/"
        },
        "id": "7D_gKHoN3chK",
        "outputId": "4071252b-7336-4e9a-ad19-bfa4aaddfd75"
      },
      "outputs": [
        {
          "output_type": "stream",
          "name": "stdout",
          "text": [
            "ID:1\n",
            "Name:Samin\n",
            "Department:CSE\n",
            "Age:21\n",
            "CGPA:3.91\n",
            "-----------------------\n",
            "ID:2\n",
            "Name:Fahim\n",
            "Department:ECE\n",
            "Age:21\n",
            "CGPA:3.85\n",
            "-----------------------\n",
            "ID:3\n",
            "Name:Tahura\n",
            "Department:EEE\n",
            "Age:22\n",
            "CGPA:3.01\n",
            "-----------------------\n",
            "ID:4\n",
            "Name:Sumaiya\n",
            "Department:BBA\n",
            "Age:23\n",
            "CGPA:3.96\n"
          ]
        }
      ],
      "source": [
        "#1\n",
        "class Student:\n",
        "  id=0\n",
        "  def __init__(self,name,dep,age,cgpa):\n",
        "   self.name=name\n",
        "   self.dep=dep\n",
        "   self.age=age\n",
        "   self.cgpa=cgpa\n",
        "   Student.id+=1\n",
        "\n",
        "  def showDetails(self):\n",
        "\n",
        "    print(f'ID:{Student.id}')\n",
        "    print(f'Name:{self.name}')\n",
        "    print(f'Department:{self.dep}')\n",
        "    print(f'Age:{self.age}')\n",
        "    print(f'CGPA:{self.cgpa}')\n",
        "\n",
        "  @classmethod\n",
        "  def from_String(cls,s):\n",
        "    new_info=s.split('-')\n",
        "    return cls(new_info[0],new_info[1],new_info[2],new_info[3])\n",
        "\n",
        "\n",
        "\n",
        "s1 = Student(\"Samin\", \"CSE\", 21, 3.91)\n",
        "s1.showDetails()\n",
        "print(\"-----------------------\")\n",
        "s2 = Student(\"Fahim\", \"ECE\", 21, 3.85)\n",
        "s2.showDetails()\n",
        "print(\"-----------------------\")\n",
        "s3 = Student(\"Tahura\", \"EEE\", 22, 3.01)\n",
        "s3.showDetails()\n",
        "print(\"-----------------------\")\n",
        "s4 = Student.from_String(\"Sumaiya-BBA-23-3.96\")\n",
        "s4.showDetails()\n"
      ]
    },
    {
      "cell_type": "code",
      "source": [
        "#2\n",
        "class Assassin:\n",
        "  n=0\n",
        "  def __init__(self,name,s_rate):\n",
        "    self.name=name\n",
        "    self.s_rate=s_rate\n",
        "    Assassin.n+=1\n",
        "  def printDetails(self):\n",
        "    print(f'Name:{self.name}')\n",
        "    print(f'Success rate:{self.s_rate}%')\n",
        "    print(f'Total number of Assassin:{Assassin.n}')\n",
        "  @classmethod\n",
        "  def failureRate(cls,name,num):\n",
        "    return cls(name,100-num)\n",
        "  @classmethod\n",
        "  def failurePercentage(cls,name,num):\n",
        "    return cls(name, 100-int(num[:-1]))\n",
        "john_wick = Assassin('John Wick', 100)\n",
        "john_wick.printDetails()\n",
        "print('================================')\n",
        "nagisa = Assassin.failureRate(\"Nagisa\", 20)\n",
        "nagisa.printDetails()\n",
        "print('================================')\n",
        "akabane = Assassin.failurePercentage(\"Akabane\", \"10%\")\n",
        "akabane.printDetails()\n"
      ],
      "metadata": {
        "colab": {
          "base_uri": "https://localhost:8080/"
        },
        "id": "3qvtcWvt9ZpU",
        "outputId": "51c68491-62b2-476a-f288-382d864ab3ad"
      },
      "execution_count": null,
      "outputs": [
        {
          "output_type": "stream",
          "name": "stdout",
          "text": [
            "Name:John Wick\n",
            "Success rate:100%\n",
            "Total number of Assassin:1\n",
            "================================\n",
            "Name:Nagisa\n",
            "Success rate:80%\n",
            "Total number of Assassin:2\n",
            "================================\n",
            "Name:Akabane\n",
            "Success rate:90%\n",
            "Total number of Assassin:3\n"
          ]
        }
      ]
    },
    {
      "cell_type": "code",
      "source": [
        "#3\n",
        "class  Passenger:\n",
        "  count=0\n",
        "\n",
        "  def __init__(self,name):\n",
        "    self.name=name\n",
        "    Passenger.count+=1\n",
        "\n",
        "  def set_bag_weight(self,w):\n",
        "    self.busfare=450\n",
        "    if w<=20:\n",
        "       self.busfare = 450\n",
        "    elif w>=21 and w<=50:\n",
        "      self.busfare+= 50\n",
        "    else:\n",
        "      self.busfare+=100\n",
        "\n",
        "  def printDetail(self):\n",
        "    print(f'Name:{self.name}')\n",
        "    print(f'Bus Fare:{self.busfare}')\n",
        "\n",
        "\n",
        "print(\"Total Passenger:\", Passenger.count)\n",
        "p1 = Passenger(\"Jack\")\n",
        "p1.set_bag_weight(90)\n",
        "p2 = Passenger('Carol')\n",
        "p2.set_bag_weight(10)\n",
        "p3 = Passenger(\"Mike\")\n",
        "p3.set_bag_weight(25)\n",
        "print(\"=========================\")\n",
        "p1.printDetail()\n",
        "print(\"=========================\")\n",
        "p2.printDetail()\n",
        "print(\"=========================\")\n",
        "p3.printDetail()\n",
        "print(\"=========================\")\n",
        "print(\"Total Passenger:\", Passenger.count)\n"
      ],
      "metadata": {
        "colab": {
          "base_uri": "https://localhost:8080/"
        },
        "id": "36KjUs1OBibg",
        "outputId": "59f64829-b55f-4dc7-8946-45138f653827"
      },
      "execution_count": null,
      "outputs": [
        {
          "output_type": "stream",
          "name": "stdout",
          "text": [
            "Total Passenger: 0\n",
            "=========================\n",
            "Name:Jack\n",
            "Bus Fare:550\n",
            "=========================\n",
            "Name:Carol\n",
            "Bus Fare:450\n",
            "=========================\n",
            "Name:Mike\n",
            "Bus Fare:500\n",
            "=========================\n",
            "Total Passenger: 3\n"
          ]
        }
      ]
    },
    {
      "cell_type": "code",
      "source": [
        "#4\n",
        "class Travel:\n",
        "  count=0\n",
        "  def __init__(self,source,des):\n",
        "    self.source=source\n",
        "    self.des=des\n",
        "    self.time=1\n",
        "    Travel.count+=1\n",
        "  def set_time(self,time):\n",
        "    self.time=time\n",
        "\n",
        "  def set_destination(self,d):\n",
        "    self.des=d\n",
        "\n",
        "  def set_source(self,s):\n",
        "    self.source=s\n",
        "\n",
        "  def display_travel_info(self):\n",
        "    return f'Source:{self.source} \\nDestination:{self.des} \\nFlight Time:{self.time}:00'\n",
        "\n",
        "\n",
        "\n",
        "print('No. of Traveller =', Travel.count)\n",
        "print(\"=======================\")\n",
        "t1 = Travel(\"Dhaka\",\"India\")\n",
        "print(t1.display_travel_info())\n",
        "print(\"=======================\")\n",
        "t2 = Travel(\"Kuala Lampur\",\"Dhaka\")\n",
        "t2.set_time(23)\n",
        "print(t2.display_travel_info())\n",
        "print(\"=======================\")\n",
        "t3 = Travel(\"Dhaka\",\"New_Zealand\")\n",
        "t3.set_time(15)\n",
        "t3.set_destination(\"Germany\")\n",
        "print(t3.display_travel_info())\n",
        "print(\"=======================\")\n",
        "t4 = Travel(\"Dhaka\",\"India\")\n",
        "t4.set_time(9)\n",
        "t4.set_source(\"Malaysia\")\n",
        "t4.set_destination(\"Canada\")\n",
        "print(t4.display_travel_info())\n",
        "print(\"=======================\")\n",
        "print('No. of Traveller =', Travel.count)\n"
      ],
      "metadata": {
        "colab": {
          "base_uri": "https://localhost:8080/"
        },
        "id": "oUXeRzfmFVCi",
        "outputId": "dcfac1e3-c43e-4d20-83ca-e8aa402a8250"
      },
      "execution_count": null,
      "outputs": [
        {
          "output_type": "stream",
          "name": "stdout",
          "text": [
            "No. of Traveller = 0\n",
            "=======================\n",
            "Source:Dhaka \n",
            "Destination:India \n",
            "Flight Time:1:00\n",
            "=======================\n",
            "Source:Kuala Lampur \n",
            "Destination:Dhaka \n",
            "Flight Time:23:00\n",
            "=======================\n",
            "Source:Dhaka \n",
            "Destination:Germany \n",
            "Flight Time:15:00\n",
            "=======================\n",
            "Source:Malaysia \n",
            "Destination:Canada \n",
            "Flight Time:9:00\n",
            "=======================\n",
            "No. of Traveller = 4\n"
          ]
        }
      ]
    },
    {
      "cell_type": "code",
      "source": [
        "#5\n",
        "from datetime import date\n",
        "class  Employee:\n",
        "  def __init__(self,name,workingPeriod):\n",
        "    self.name=name\n",
        "    self.workingPeriod=workingPeriod\n",
        "\n",
        "  @classmethod\n",
        "  def employeeByJoiningYear(cls,name,year):\n",
        "    return cls(name, date.today().year - year)\n",
        "\n",
        "  @staticmethod\n",
        "  def experienceCheck(working_period,gender):\n",
        "   if working_period<3:\n",
        "    if gender == 'female':\n",
        "      return \"She is experienced\"\n",
        "    else:\n",
        "      return 'He is not experienced'\n",
        "   elif working_period>=3:\n",
        "    if gender == 'female':\n",
        "      return \"She is experienced\"\n",
        "    else:\n",
        "      return 'He is not experienced'\n",
        "\n",
        "\n",
        "employee1 = Employee('Dororo', 3)\n",
        "employee2 = Employee.employeeByJoiningYear('Harry', 2016)\n",
        "print(employee1.workingPeriod)\n",
        "print(employee2.workingPeriod)\n",
        "print(employee1.name)\n",
        "print(employee2.name)\n",
        "print(Employee.experienceCheck(2, \"male\"))\n",
        "print(Employee.experienceCheck(3, \"female\"))"
      ],
      "metadata": {
        "colab": {
          "base_uri": "https://localhost:8080/"
        },
        "id": "Rd8CL1ttK9pd",
        "outputId": "5282a140-df85-4ac0-9cd2-c4cbdaf89436"
      },
      "execution_count": null,
      "outputs": [
        {
          "output_type": "stream",
          "name": "stdout",
          "text": [
            "3\n",
            "6\n",
            "Dororo\n",
            "Harry\n",
            "He is not experienced\n",
            "She is experienced\n"
          ]
        }
      ]
    },
    {
      "cell_type": "code",
      "source": [
        "class Laptop:\n",
        "  laptopCount = 0\n",
        "  def __init__(self,name,count):\n",
        "    self.name = name\n",
        "    self.count = count\n",
        "    Laptop.laptopCount += count\n",
        "  @classmethod\n",
        "  def advantage(cls):\n",
        "    print('Laptops are portable')\n",
        "  @classmethod\n",
        "  def resetCount(cls):\n",
        "    cls.laptopCount = 0\n",
        "lenovo = Laptop(\"Lenovo\", 5);\n",
        "dell = Laptop(\"Dell\", 7);\n",
        "print(lenovo.name, lenovo.count)\n",
        "print(dell.name, dell.count)\n",
        "print(\"Total number of Laptops\", Laptop.laptopCount)\n",
        "Laptop.advantage()\n",
        "Laptop.resetCount()\n",
        "print(\"Total number of Laptops\", Laptop.laptopCount)"
      ],
      "metadata": {
        "colab": {
          "base_uri": "https://localhost:8080/"
        },
        "id": "XbXEsSrurEdc",
        "outputId": "fc6992ef-b05a-4cf3-eff6-33017952f5bc"
      },
      "execution_count": null,
      "outputs": [
        {
          "output_type": "stream",
          "name": "stdout",
          "text": [
            "Lenovo 5\n",
            "Dell 7\n",
            "Total number of Laptops 12\n",
            "Laptops are portable\n",
            "Total number of Laptops 0\n"
          ]
        }
      ]
    },
    {
      "cell_type": "code",
      "source": [
        "#6\n",
        "class Laptop:\n",
        "  laptopCount=0\n",
        "  def __init__(self,name,count):\n",
        "    self.name=name\n",
        "    self.count=count\n",
        "    Laptop.laptopCount += count\n",
        "\n",
        "  @classmethod\n",
        "  def advantage(cls):\n",
        "    print('Laptops are portable')\n",
        "\n",
        "  @classmethod\n",
        "  def resetCount(cls):\n",
        "    cls.laptopCount=0\n",
        "\n",
        "lenovo = Laptop(\"Lenovo\", 5);\n",
        "dell = Laptop(\"Dell\", 7);\n",
        "print(lenovo.name, lenovo.count)\n",
        "print(dell.name, dell.count)\n",
        "print(\"Total number of Laptops\", Laptop.laptopCount)\n",
        "Laptop.advantage()\n",
        "Laptop.resetCount()\n",
        "print(\"Total number of Laptops\", Laptop.laptopCount)"
      ],
      "metadata": {
        "id": "YEkCDVz2J1po",
        "colab": {
          "base_uri": "https://localhost:8080/"
        },
        "outputId": "f9bbef2f-3411-4b7b-84d2-2870942fddcf"
      },
      "execution_count": null,
      "outputs": [
        {
          "output_type": "stream",
          "name": "stdout",
          "text": [
            "Lenovo 5\n",
            "Dell 7\n",
            "Total number of Laptops 12\n",
            "Laptops are portable\n",
            "Total number of Laptops 0\n"
          ]
        }
      ]
    },
    {
      "cell_type": "code",
      "source": [
        "#7\n",
        "class Cat:\n",
        "\n",
        "  Number_of_cats=0\n",
        "\n",
        "  def __init__(self,color,action):\n",
        "    self.color=color\n",
        "    self.action=action\n",
        "    Cat.Number_of_cats+=1\n",
        "\n",
        "  @classmethod\n",
        "  def no_parameter(cls,color='White',action='sitting'):\n",
        "    return cls(color,action)\n",
        "\n",
        "  @classmethod\n",
        "  def first_parameter(cls,color,action='sitting'):\n",
        "    return cls(color,action)\n",
        "\n",
        "  @classmethod\n",
        "  def second_parameter(cls,action,color='Grey'):\n",
        "    return cls(color,action)\n",
        "\n",
        "  def printCat(self):\n",
        "    print(f'{self.color} is {self.action}')\n",
        "\n",
        "  def changeColor(self,color):\n",
        "    self.color=color\n",
        "\n",
        "print(\"Total number of cats:\", Cat.Number_of_cats)\n",
        "c1 = Cat.no_parameter()\n",
        "c2 = Cat.first_parameter(\"Black\")\n",
        "c3 = Cat(\"Brown\", \"jumping\")\n",
        "c4 = Cat(\"Red\", \"purring\")\n",
        "c5 = Cat.second_parameter(\"playing\")\n",
        "print(\"=======================\")\n",
        "c1.printCat()\n",
        "c2.printCat()\n",
        "c3.printCat()\n",
        "c4.printCat()\n",
        "c5.printCat()\n",
        "c1.changeColor(\"Blue\")\n",
        "c3.changeColor(\"Purple\")\n",
        "c1.printCat()\n",
        "c3.printCat()\n",
        "print(\"=======================\")\n",
        "print(\"Total number of cats:\", Cat.Number_of_cats)\n"
      ],
      "metadata": {
        "colab": {
          "base_uri": "https://localhost:8080/"
        },
        "id": "p02f0JowQsxB",
        "outputId": "7a6ca085-6b6b-428d-9163-74c0f59a3f02"
      },
      "execution_count": null,
      "outputs": [
        {
          "output_type": "stream",
          "name": "stdout",
          "text": [
            "Total number of cats: 0\n",
            "=======================\n",
            "White is sitting\n",
            "Black is sitting\n",
            "Brown is jumping\n",
            "Red is purring\n",
            "Grey is playing\n",
            "Blue is sitting\n",
            "Purple is jumping\n",
            "=======================\n",
            "Total number of cats: 5\n"
          ]
        }
      ]
    },
    {
      "cell_type": "code",
      "source": [
        "#8\n",
        "class Cylinder:\n",
        "    radius=5\n",
        "    height=18\n",
        "    def __init__(self, radius, height):\n",
        "        self.radius = radius\n",
        "        self.height = height\n",
        "        print(\"Default radius =\", Cylinder.radius, \"and height=\", Cylinder.height)\n",
        "        print(\"Updated: radius=\", radius, \"and height=\", height)\n",
        "        Cylinder.radius= self.radius\n",
        "        Cylinder.height = self.height\n",
        "    @staticmethod\n",
        "    def volume(radius,height):\n",
        "        print(\"Volume:\",(3.141592653589793238*(float(Cylinder.radius)**2)*float(Cylinder.height)))\n",
        "    @classmethod\n",
        "    def swap(cls,x,y):\n",
        "        obj=cls(y,x)\n",
        "        return obj\n",
        "    @classmethod\n",
        "    def changeFormat(cls,format):\n",
        "        radius,height=format.split(\"-\")\n",
        "        obj=cls(float(radius),float(height))\n",
        "        return obj\n",
        "    @staticmethod\n",
        "    def area(x,y):\n",
        "        print(\"Area: \",(2*(3.141592653589793238)*float(Cylinder.radius)* float((Cylinder.radius)+float(Cylinder.height) )) )\n",
        "\n",
        "c1 = Cylinder(0,0)\n",
        "Cylinder.area(c1.radius,c1.height)\n",
        "Cylinder.volume(c1.radius,c1.height)\n",
        "print(\"===============================\")\n",
        "c2 = Cylinder.swap(8,3)\n",
        "c2.area(c2.radius,c2.height)\n",
        "c2.volume(c2.radius,c2.height)\n",
        "print(\"===============================\")\n",
        "c3 = Cylinder.changeFormat(\"7-13\")\n",
        "c3.area(c3.radius,c3.height)\n",
        "c3.volume(c3.radius,c3.height)\n",
        "print(\"===============================\")\n",
        "Cylinder(0.3,5.56).area(Cylinder.radius,Cylinder.height)\n",
        "print(\"===============================\")\n",
        "Cylinder(3,5).volume(Cylinder.radius,Cylinder.height)\n"
      ],
      "metadata": {
        "id": "WUnJBGiyG6yQ",
        "colab": {
          "base_uri": "https://localhost:8080/"
        },
        "outputId": "885d98cf-190c-4320-836d-6d0bf2b7d78a"
      },
      "execution_count": null,
      "outputs": [
        {
          "output_type": "stream",
          "name": "stdout",
          "text": [
            "Default radius = 5 and height= 18\n",
            "Updated: radius= 0 and height= 0\n",
            "Area:  0.0\n",
            "Volume: 0.0\n",
            "===============================\n",
            "Default radius = 0 and height= 0\n",
            "Updated: radius= 3 and height= 8\n",
            "Area:  207.34511513692635\n",
            "Volume: 226.1946710584651\n",
            "===============================\n",
            "Default radius = 3 and height= 8\n",
            "Updated: radius= 7.0 and height= 13.0\n",
            "Area:  879.645943005142\n",
            "Volume: 2001.1945203366981\n",
            "===============================\n",
            "Default radius = 7.0 and height= 13.0\n",
            "Updated: radius= 0.3 and height= 5.56\n",
            "Area:  11.045839770021711\n",
            "===============================\n",
            "Default radius = 0.3 and height= 5.56\n",
            "Updated: radius= 3 and height= 5\n",
            "Volume: 141.3716694115407\n"
          ]
        }
      ]
    },
    {
      "cell_type": "code",
      "source": [
        "#8\n",
        "import math\n",
        "class Cylinder:\n",
        "    radius=5\n",
        "    height=18\n",
        "    def __init__(self, radius, height):\n",
        "        self.radius = radius\n",
        "        self.height = height\n",
        "        print(\"Default radius =\", Cylinder.radius, \"and height=\", Cylinder.height)\n",
        "        print(\"Updated: radius=\", radius, \"and height=\", height)\n",
        "        Cylinder.radius= self.radius\n",
        "        Cylinder.height = self.height\n",
        "    @staticmethod\n",
        "    def volume(radius,height):\n",
        "        print(\"Volume:\",(math.pi*(float(Cylinder.radius)**2)*float(Cylinder.height)))\n",
        "    @classmethod\n",
        "    def swap(cls,x,y):\n",
        "        obj=cls(y,x)\n",
        "        return obj\n",
        "    @classmethod\n",
        "    def changeFormat(cls,format):\n",
        "        radius,height=format.split(\"-\")\n",
        "        obj=cls(float(radius),float(height))\n",
        "        return obj\n",
        "    @staticmethod\n",
        "    def area(x,y):\n",
        "        print(\"Area: \",(2*math.pi*float(Cylinder.radius)* float((Cylinder.radius)+float(Cylinder.height) )) )\n",
        "c1 = Cylinder(0,0)\n",
        "Cylinder.area(c1.radius,c1.height)\n",
        "Cylinder.volume(c1.radius,c1.height)\n",
        "print(\"===============================\")\n",
        "c2 = Cylinder.swap(8,3)\n",
        "c2.area(c2.radius,c2.height)\n",
        "c2.volume(c2.radius,c2.height)\n",
        "print(\"===============================\")\n",
        "c3 = Cylinder.changeFormat(\"7-13\")\n",
        "c3.area(c3.radius,c3.height)\n",
        "c3.volume(c3.radius,c3.height)\n",
        "print(\"===============================\")\n",
        "Cylinder(0.3,5.56).area(Cylinder.radius,Cylinder.height)\n",
        "print(\"===============================\")\n",
        "Cylinder(3,5).volume(Cylinder.radius,Cylinder.height)"
      ],
      "metadata": {
        "colab": {
          "base_uri": "https://localhost:8080/"
        },
        "id": "8vWzEvOTv9sR",
        "outputId": "41d9d545-b043-4d3c-8f4d-cfef9394d39b"
      },
      "execution_count": null,
      "outputs": [
        {
          "output_type": "stream",
          "name": "stdout",
          "text": [
            "Default radius = 5 and height= 18\n",
            "Updated: radius= 0 and height= 0\n",
            "Area:  0.0\n",
            "Volume: 0.0\n",
            "===============================\n",
            "Default radius = 0 and height= 0\n",
            "Updated: radius= 3 and height= 8\n",
            "Area:  207.34511513692635\n",
            "Volume: 226.1946710584651\n",
            "===============================\n",
            "Default radius = 3 and height= 8\n",
            "Updated: radius= 7.0 and height= 13.0\n",
            "Area:  879.645943005142\n",
            "Volume: 2001.1945203366981\n",
            "===============================\n",
            "Default radius = 7.0 and height= 13.0\n",
            "Updated: radius= 0.3 and height= 5.56\n",
            "Area:  11.045839770021711\n",
            "===============================\n",
            "Default radius = 0.3 and height= 5.56\n",
            "Updated: radius= 3 and height= 5\n",
            "Volume: 141.3716694115407\n"
          ]
        }
      ]
    },
    {
      "cell_type": "code",
      "source": [
        "#9\n",
        "class Student:\n",
        "  Total_Student= 0\n",
        "  brac_student=0\n",
        "  other_student=0\n",
        "\n",
        "  def __init__(self,name,dep,uni='BRAC UNIVERSITY'):\n",
        "    self.name=name\n",
        "    self.dep=dep\n",
        "    self.uni=uni\n",
        "    Student.Total_Student += 1\n",
        "    if self.uni == 'BRAC UNIVERSITY':\n",
        "      Student.brac_student+=1\n",
        "    else:\n",
        "        Student.other_student+=1\n",
        "\n",
        "  @staticmethod\n",
        "  def printDetails():\n",
        "    print(f'Total Student(s):{Student.Total_Student}')\n",
        "    print(f'BRAC University Student(s):{Student.brac_student}')\n",
        "    print(f'Other Institution Student(s):{Student. other_student}')\n",
        "\n",
        "  def individualDetail(self):\n",
        "    print(f'Name:{self.name} \\nDepartment:{self.dep} \\nInstitution:{self.uni}')\n",
        "\n",
        "  @classmethod\n",
        "  def createStudent(cls,name,dep,uni=None):\n",
        "     if uni==None:\n",
        "      return cls(name,dep,uni='BRAC UNIVERSITY')\n",
        "     else:\n",
        "      return cls(name,dep,uni)\n",
        "\n",
        "\n",
        "Student.printDetails()\n",
        "print('#########################')\n",
        "\n",
        "mikasa = Student('Mikasa Ackerman', \"CSE\")\n",
        "mikasa.individualDetail()\n",
        "print('------------------------------------------')\n",
        "Student.printDetails()\n",
        "\n",
        "print('========================')\n",
        "\n",
        "harry = Student.createStudent('Harry Potter', \"Defence Against Dark Arts\", \"Hogwarts School\")\n",
        "harry.individualDetail()\n",
        "print('-------------------------------------------')\n",
        "Student.printDetails()\n",
        "\n",
        "print('=========================')\n",
        "\n",
        "levi = Student.createStudent(\"Levi Ackerman\", \"CSE\")\n",
        "levi.individualDetail()\n",
        "print('--------------------------------------------')\n",
        "Student.printDetails()\n"
      ],
      "metadata": {
        "id": "8tB5u9UMYMuD",
        "colab": {
          "base_uri": "https://localhost:8080/"
        },
        "outputId": "98b09bd8-a3ae-4957-8521-22737d5cafd1"
      },
      "execution_count": null,
      "outputs": [
        {
          "output_type": "stream",
          "name": "stdout",
          "text": [
            "Total Student(s):0\n",
            "BRAC University Student(s):0\n",
            "Other Institution Student(s):0\n",
            "#########################\n",
            "Name:Mikasa Ackerman \n",
            "Department:CSE \n",
            "Institution:BRAC UNIVERSITY\n",
            "------------------------------------------\n",
            "Total Student(s):1\n",
            "BRAC University Student(s):1\n",
            "Other Institution Student(s):0\n",
            "========================\n",
            "Name:Harry Potter \n",
            "Department:Defence Against Dark Arts \n",
            "Institution:Hogwarts School\n",
            "-------------------------------------------\n",
            "Total Student(s):2\n",
            "BRAC University Student(s):1\n",
            "Other Institution Student(s):1\n",
            "=========================\n",
            "Name:Levi Ackerman \n",
            "Department:CSE \n",
            "Institution:BRAC UNIVERSITY\n",
            "--------------------------------------------\n",
            "Total Student(s):3\n",
            "BRAC University Student(s):2\n",
            "Other Institution Student(s):1\n"
          ]
        }
      ]
    },
    {
      "cell_type": "code",
      "source": [
        "#task 10\n",
        "class SultansDine:\n",
        "  branches = 0\n",
        "  sell = 0\n",
        "  lst = []\n",
        "  def __init__(self,name):\n",
        "    self.name = name\n",
        "    SultansDine.branches += 1\n",
        "  def sellQuantity(self,num):\n",
        "     self.quantity = num\n",
        "     if num < 10:\n",
        "       self.quantity = num*300\n",
        "     elif num <20:\n",
        "       self.quantity = num*350\n",
        "     else:\n",
        "       self.quantity = num*400\n",
        "     SultansDine.sell += self.quantity\n",
        "  def  branchInformation(self):\n",
        "    print(f'Branch name:{self.name}\\nBranch Sell:{self.quantity} taka')\n",
        "    SultansDine.lst.append(self.name)\n",
        "    SultansDine.lst.append(self.quantity)\n",
        "\n",
        "\n",
        "\n",
        "  @classmethod\n",
        "  def details(cls):\n",
        "     print(f'Total Number of branch(s):{cls.branches}\\nTotal sell:{cls.sell}')\n",
        "     for i in range(0,len(cls.lst),2):\n",
        "       print(f'Branch Name:{cls.lst[i]} Branch sell:{cls.lst[i+1]}')\n",
        "       print(f\"Branch consists of total sell's:{(cls.lst[i+1]/cls.sell)*100:.2f}%\")\n",
        "\n",
        "\n",
        "\n",
        "\n",
        "SultansDine.details()\n",
        "print('########################')\n",
        "dhanmodi = SultansDine('Dhanmondi')\n",
        "dhanmodi.sellQuantity(25)\n",
        "dhanmodi.branchInformation()\n",
        "print('-----------------------------------------')\n",
        "SultansDine.details()\n",
        "\n",
        "print('========================')\n",
        "\n",
        "baily_road = SultansDine('Baily Road')\n",
        "baily_road.sellQuantity(15)\n",
        "baily_road.branchInformation()\n",
        "print('-----------------------------------------')\n",
        "SultansDine.details()\n",
        "\n",
        "print('========================')\n",
        "\n",
        "gulshan = SultansDine('Gulshan')\n",
        "gulshan.sellQuantity(9)\n",
        "gulshan.branchInformation()\n",
        "print('-----------------------------------------')\n",
        "SultansDine.details()\n"
      ],
      "metadata": {
        "id": "sThIfcOxkNzl",
        "outputId": "0469a1da-e434-493a-b3c6-4c0924cbcd44",
        "colab": {
          "base_uri": "https://localhost:8080/"
        }
      },
      "execution_count": null,
      "outputs": [
        {
          "output_type": "stream",
          "name": "stdout",
          "text": [
            "Total Number of branch(s):0\n",
            "Total sell:0\n",
            "########################\n",
            "Branch name:Dhanmondi\n",
            "Branch Sell:10000 taka\n",
            "-----------------------------------------\n",
            "Total Number of branch(s):1\n",
            "Total sell:10000\n",
            "Branch Name:Dhanmondi Branch sell:10000\n",
            "Branch consists of total sell's:100.00%\n",
            "========================\n",
            "Branch name:Baily Road\n",
            "Branch Sell:5250 taka\n",
            "-----------------------------------------\n",
            "Total Number of branch(s):2\n",
            "Total sell:15250\n",
            "Branch Name:Dhanmondi Branch sell:10000\n",
            "Branch consists of total sell's:65.57%\n",
            "Branch Name:Baily Road Branch sell:5250\n",
            "Branch consists of total sell's:34.43%\n",
            "========================\n",
            "Branch name:Gulshan\n",
            "Branch Sell:2700 taka\n",
            "-----------------------------------------\n",
            "Total Number of branch(s):3\n",
            "Total sell:17950\n",
            "Branch Name:Dhanmondi Branch sell:10000\n",
            "Branch consists of total sell's:55.71%\n",
            "Branch Name:Baily Road Branch sell:5250\n",
            "Branch consists of total sell's:29.25%\n",
            "Branch Name:Gulshan Branch sell:2700\n",
            "Branch consists of total sell's:15.04%\n"
          ]
        }
      ]
    },
    {
      "cell_type": "code",
      "source": [
        "#10\n",
        "class SultansDine:\n",
        "  total_branch=0\n",
        "  total_sell=0\n",
        "  per=1\n",
        "  def __init__(self,location):\n",
        "    self.location=location\n",
        "    self.per=1\n",
        "  @classmethod\n",
        "  def details(cls):\n",
        "    print(f'Total Number of branch(s): {SultansDine.total_branch}')\n",
        "    print(f'Total Sell: {SultansDine.total_sell} Taka')\n",
        "    print(f\"Branch consists of total sell's:{SultansDine.per}\")\n",
        "\n",
        "  def sellQuantity(self,q):\n",
        "    self.q=q\n",
        "    if self.q<10:\n",
        "      SultansDine.total_sell=self.q*300\n",
        "      SultansDine.per=(SultansDine.total_branch/SultansDine.total_sell)*100\n",
        "    elif self.q<20:\n",
        "      SultansDine.total_sell=self.q*350\n",
        "      SultansDine.per=(SultansDine.total_branch/SultansDine.total_sell)*100\n",
        "    else:\n",
        "      SultansDine.total_sell=self.q*400\n",
        "      SultansDine.per=(SultansDine.total_branch/SultansDine.total_sell)*100\n",
        "\n",
        "  def branchInformation(self):\n",
        "    print(f'Branch Name: {self.location}')\n",
        "    print(f'Branch Sell: {self.q} Taka')\n",
        "\n",
        "\n",
        "\n",
        "\n",
        "SultansDine.details()\n",
        "print('########################')\n",
        "dhanmodi = SultansDine('Dhanmondi')\n",
        "dhanmodi.sellQuantity(25)\n",
        "dhanmodi.branchInformation()\n",
        "print('-----------------------------------------')\n",
        "SultansDine.details()\n",
        "\n",
        "print('========================')\n",
        "\n",
        "baily_road = SultansDine('Baily Road')\n",
        "baily_road.sellQuantity(15)\n",
        "baily_road.branchInformation()\n",
        "print('-----------------------------------------')\n",
        "SultansDine.details()\n",
        "\n",
        "print('========================')\n",
        "\n",
        "gulshan = SultansDine('Gulshan')\n",
        "gulshan.sellQuantity(9)\n",
        "gulshan.branchInformation()\n",
        "print('-----------------------------------------')\n",
        "SultansDine.details()\n"
      ],
      "metadata": {
        "id": "bk4MUFqo6zzl",
        "colab": {
          "base_uri": "https://localhost:8080/"
        },
        "outputId": "60f96194-bbf6-492f-8a62-03b7a6e40f1d"
      },
      "execution_count": null,
      "outputs": [
        {
          "output_type": "stream",
          "name": "stdout",
          "text": [
            "Total Number of branch(s): 0\n",
            "Total Sell: 0 Taka\n",
            "Branch consists of total sell's:1\n",
            "########################\n",
            "Branch Name: Dhanmondi\n",
            "Branch Sell: 25 Taka\n",
            "-----------------------------------------\n",
            "Total Number of branch(s): 0\n",
            "Total Sell: 10000 Taka\n",
            "Branch consists of total sell's:0.0\n",
            "========================\n",
            "Branch Name: Baily Road\n",
            "Branch Sell: 15 Taka\n",
            "-----------------------------------------\n",
            "Total Number of branch(s): 0\n",
            "Total Sell: 5250 Taka\n",
            "Branch consists of total sell's:0.0\n",
            "========================\n",
            "Branch Name: Gulshan\n",
            "Branch Sell: 9 Taka\n",
            "-----------------------------------------\n",
            "Total Number of branch(s): 0\n",
            "Total Sell: 2700 Taka\n",
            "Branch consists of total sell's:0.0\n"
          ]
        }
      ]
    },
    {
      "cell_type": "code",
      "source": [
        "class SultansDine:\n",
        "  total_branch=0\n",
        "  total_sell=0\n",
        "  def __init__(self,loc):\n",
        "    self.loc=loc\n",
        "    SultansDine.total_branch += 1\n",
        "\n",
        "  @staticmethod\n",
        "  def details():\n",
        "    print(f'Total Number of branch(s):{SultansDine.total_branch}')\n",
        "    print(f'Total Sell:{SultansDine.total_sell}')\n",
        "    #print(f'Branch Name:{loc},')\n",
        "\n",
        "  def sellQuantity(self,q):\n",
        "    self.q=q\n",
        "    # self.t=self.q*400\n",
        "    if self.q<10:\n",
        "      self.t=self.q*300\n",
        "    elif self.q<20:\n",
        "      self.t=self.q*350\n",
        "    else:\n",
        "      self.t=self.q*400\n",
        "  def branchInformation(self):\n",
        "    print(f'Branch Name:{self.loc}')\n",
        "    print(f'Branch Sell:{self.t}')\n",
        "SultansDine.details()\n",
        "print('########################')\n",
        "dhanmodi = SultansDine('Dhanmondi')\n",
        "dhanmodi.sellQuantity(25)\n",
        "dhanmodi.branchInformation()\n",
        "print('-----------------------------------------')\n",
        ""
      ],
      "metadata": {
        "colab": {
          "base_uri": "https://localhost:8080/"
        },
        "id": "n5z81YsWdbUV",
        "outputId": "cf6dc8f3-8b9a-473f-8118-807d39eb2e4e"
      },
      "execution_count": null,
      "outputs": [
        {
          "output_type": "stream",
          "name": "stdout",
          "text": [
            "Total Number of branch(s):0\n",
            "Total Sell:0\n",
            "########################\n",
            "Branch Name:Dhanmondi\n",
            "Branch Sell:10000\n",
            "-----------------------------------------\n"
          ]
        }
      ]
    },
    {
      "cell_type": "code",
      "source": [
        "#11\n",
        "class Puzzle:\n",
        "    x = 0\n",
        "    def methodA(self):\n",
        "        Puzzle.x = 5\n",
        "        z = Puzzle.x + self.methodB(Puzzle.x)\n",
        "        print(Puzzle.x, z)\n",
        "        z = self.methodB(z + 2) + Puzzle.x\n",
        "        print(Puzzle.x, z)\n",
        "        self.methodB(Puzzle.x, z)\n",
        "        print(Puzzle.x, z)\n",
        "    def methodB(self, *args):\n",
        "        if len(args) == 1:\n",
        "            y = args[0]\n",
        "            Puzzle.x = y + Puzzle.x\n",
        "            print(Puzzle.x, y)\n",
        "            return Puzzle.x + 3\n",
        "        else:\n",
        "            z, x = args\n",
        "            z = z + 1\n",
        "            x = x + 1\n",
        "            print(z, x)\n",
        "p = Puzzle()\n",
        "p.methodA()\n",
        "p.methodA()\n",
        "p = Puzzle()\n",
        "p.methodA()\n",
        "p.methodB(7)"
      ],
      "metadata": {
        "colab": {
          "base_uri": "https://localhost:8080/"
        },
        "id": "eN8wFQYo7IIf",
        "outputId": "d62796d5-c309-49b1-ce02-2ddd2a1de2f9"
      },
      "execution_count": null,
      "outputs": [
        {
          "output_type": "stream",
          "name": "stdout",
          "text": [
            "10 5\n",
            "10 18\n",
            "30 20\n",
            "30 63\n",
            "31 64\n",
            "30 63\n",
            "10 5\n",
            "10 18\n",
            "30 20\n",
            "30 63\n",
            "31 64\n",
            "30 63\n",
            "10 5\n",
            "10 18\n",
            "30 20\n",
            "30 63\n",
            "31 64\n",
            "30 63\n",
            "37 7\n"
          ]
        },
        {
          "output_type": "execute_result",
          "data": {
            "text/plain": [
              "40"
            ]
          },
          "metadata": {},
          "execution_count": 7
        }
      ]
    },
    {
      "cell_type": "code",
      "source": [
        "#12\n",
        "class FinalT6A:\n",
        "    temp = 3\n",
        "\n",
        "    def __init__(self, x, p):\n",
        "        self.sum, self.y = 0, 2\n",
        "        FinalT6A.temp += 3\n",
        "        self.y = self.temp - p\n",
        "        self.sum = self.temp + x\n",
        "        print(x, self.y, self.sum)\n",
        "\n",
        "    def methodA(self):\n",
        "        x, y = 0, 0\n",
        "        y = y + self.y\n",
        "        x = self.y + 2 + self.temp\n",
        "        self.sum = x + y + self.methodB(self.temp, y)\n",
        "        print(x, y, self.sum)\n",
        "\n",
        "    def methodB(self, temp, n):\n",
        "        x = 0\n",
        "        FinalT6A.temp += 1\n",
        "        self.y = self.y + (FinalT6A.temp)\n",
        "        FinalT6A.temp -= 1\n",
        "        x = x + 2 + n\n",
        "        self.sum = self.sum + x + self.y\n",
        "        print(x, self.y, self.sum)\n",
        "        return self.sum\n",
        "\n",
        "q1 = FinalT6A(2,1)\n",
        "q1.methodA()\n",
        "q1.methodA()\n"
      ],
      "metadata": {
        "colab": {
          "base_uri": "https://localhost:8080/"
        },
        "id": "RmN8-b3A7USY",
        "outputId": "48ea1c4c-f4d2-4b00-ffb2-9a614b801a3a"
      },
      "execution_count": null,
      "outputs": [
        {
          "output_type": "stream",
          "name": "stdout",
          "text": [
            "2 5 8\n",
            "7 12 27\n",
            "13 5 45\n",
            "14 19 78\n",
            "20 12 110\n"
          ]
        }
      ]
    },
    {
      "cell_type": "code",
      "source": [
        "#13\n",
        "class A:\n",
        "    temp = 4\n",
        "    def __init__(self):\n",
        "        self.y = self.temp - 2\n",
        "        self.sum = self.temp + 1\n",
        "        A.temp -= 2\n",
        "        self.methodA(3, 4)\n",
        "    def methodA(self, m, n):\n",
        "        x = 0\n",
        "        self.y = self.y + m + (self.temp)\n",
        "        A.temp += 1\n",
        "        x = x + 1 + n\n",
        "        self.sum = self.sum + x + self.y\n",
        "        print(x, self.y, self.sum)\n",
        "\n",
        "class B:\n",
        "    x = 0\n",
        "    def __init__(self, b = None):\n",
        "        self.y, self.temp, self.sum = 5, -5, 2\n",
        "\n",
        "        if b == None:\n",
        "            self.y = self.temp + 3\n",
        "            self.sum = 3 + self.temp + 2\n",
        "            self.temp -= 2\n",
        "        else:\n",
        "            self.sum = b.sum\n",
        "            B.x = b.x\n",
        "            b.methodB(2, 3)\n",
        "    def methodA(self, m, n):\n",
        "        x = 2\n",
        "        self.y = self.y + m + (self.temp)\n",
        "        self.temp += 1\n",
        "        x = x + 5 + n\n",
        "        self.sum = self.sum + x + self.y\n",
        "        print(x, self.y, self.sum)\n",
        "    def methodB(self, m, n):\n",
        "        y = 0\n",
        "        y = y + self.y\n",
        "        B.x = self.y + 2 + self.temp\n",
        "        self.methodA(self.x, y)\n",
        "        self.sum = self.x + y + self.sum\n",
        "        print(self.x, y, self.sum)\n",
        "\n",
        "a1=A()\n",
        "b1=B()\n",
        "b2=B(b1)\n",
        "b1.methodA(1,2)\n",
        "b2.methodB(3,2)"
      ],
      "metadata": {
        "colab": {
          "base_uri": "https://localhost:8080/"
        },
        "id": "CysMfJLG7fsv",
        "outputId": "b3985f9d-9810-4dc8-dcc9-d7afe2f63692"
      },
      "execution_count": null,
      "outputs": [
        {
          "output_type": "stream",
          "name": "stdout",
          "text": [
            "5 7 17\n",
            "5 -16 -11\n",
            "-7 -2 -20\n",
            "9 -21 -32\n",
            "12 2 14\n",
            "2 5 21\n"
          ]
        }
      ]
    },
    {
      "cell_type": "code",
      "source": [
        "#14\n",
        "class msgClass:\n",
        "    def __init__(self):\n",
        "        self.content = 0\n",
        "\n",
        "class Quiz3:\n",
        "    x = 0\n",
        "    def __init__(self, k = None):\n",
        "        self.sum, self.y = 0, 0\n",
        "        if k is None:\n",
        "            self.sum = 5\n",
        "            Quiz3.x = 2\n",
        "            self.y = 2\n",
        "        else:\n",
        "            self.sum = self.sum + k\n",
        "            self.y = 3\n",
        "            Quiz3.x += 2\n",
        "    def methodA(self):\n",
        "        x = 1\n",
        "        y = 1\n",
        "        msg = [None]\n",
        "        myMsg = msgClass()\n",
        "        myMsg.content = Quiz3.x\n",
        "        msg[0] = myMsg\n",
        "        msg[0].content = self.y + myMsg.content\n",
        "        self.y = self.y + self.methodB(msg[0])\n",
        "        y = self.methodB(msg[0]) + self.y\n",
        "        x = y + self.methodB(msg, msg[0])\n",
        "        self.sum = x + y + msg[0].content\n",
        "        print(x, y, self.sum)\n",
        "    def methodB(self, *args):\n",
        "        if len(args) == 2:\n",
        "            mg2, mg1 = args\n",
        "            x = 2\n",
        "            self.y = self.y + mg2[0].content\n",
        "            mg2[0].content = self.y + mg1.content\n",
        "            x = x + 2 + mg1.content\n",
        "            self.sum = self.sum + x + self.y\n",
        "            mg1.content = self.sum - mg2[0].content\n",
        "            print(Quiz3.x, self.y, self.sum)\n",
        "            return self.sum\n",
        "\n",
        "        elif len(args) == 1:\n",
        "            mg1, = args\n",
        "            x = 1\n",
        "            y = 2\n",
        "            y = self.sum + mg1.content\n",
        "            self.y = y + mg1.content\n",
        "            x = Quiz3.x + 5 + mg1.content\n",
        "            self.sum = self.sum + x + y\n",
        "            Quiz3.x = mg1.content + x + 3\n",
        "            print(x, y, self.sum)\n",
        "            return y\n",
        "\n",
        "a1 = Quiz3()\n",
        "a2 = Quiz3(5)\n",
        "msg = msgClass()\n",
        "a1.methodA()\n",
        "a2.methodB(msg)"
      ],
      "metadata": {
        "colab": {
          "base_uri": "https://localhost:8080/"
        },
        "id": "_u-JDchN73dA",
        "outputId": "947c6b84-4c0f-42b6-d82f-5926db264b28"
      },
      "execution_count": null,
      "outputs": [
        {
          "output_type": "stream",
          "name": "stdout",
          "text": [
            "15 11 31\n",
            "35 37 103\n",
            "44 49 211\n",
            "291 80 527\n",
            "49 5 59\n"
          ]
        },
        {
          "output_type": "execute_result",
          "data": {
            "text/plain": [
              "5"
            ]
          },
          "metadata": {},
          "execution_count": 10
        }
      ]
    },
    {
      "cell_type": "code",
      "source": [
        "class A:\n",
        "    temp = 4\n",
        "    def __init__(self):\n",
        "        self.y = self.temp - 2\n",
        "        self.sum = self.temp + 1\n",
        "        A.temp -= 2\n",
        "\n",
        "    def methodA(self, m, n):\n",
        "        x = 0\n",
        "        self.temp = 5\n",
        "        self.y = self.y + m + self.temp\n",
        "        A.temp += 3\n",
        "        x = x + 1 + A.temp\n",
        "        self.sum = self.sum + x + self.y\n",
        "        print(x, self.y, self.sum)\n",
        "\n",
        "class B:\n",
        "    m = 0\n",
        "    x = 9\n",
        "    def __init__(self, b = None):\n",
        "        if b == None:\n",
        "            self.y, self.temp, self.sum = 5, -5, 2\n",
        "            self.y = self.temp + 3\n",
        "            self.sum = 3 + self.temp + 2\n",
        "            self.temp -= 2\n",
        "            print(self.x+9, self.y, self.sum)\n",
        "        else:\n",
        "            self.y, self.temp, self.sum = 9, 8, 0\n",
        "            self.sum = b.sum + b.temp\n",
        "            #print(b.temp)\n",
        "            B.a = [b.m]\n",
        "            b.methodB(B.a[0]+5, self.sum)\n",
        "\n",
        "    def methodB(self, m, n, p = -1):\n",
        "        y = 0\n",
        "        y = y + self.y\n",
        "        B.x = self.y + 9 + self.temp\n",
        "        self.sum = self.x + y + self.sum\n",
        "        print(self.x, y, self.sum)\n",
        "a1 = A()\n",
        "b1 = B()\n",
        "b2 = B(b1)\n",
        "a1.methodA(b1.m, b2.a)"
      ],
      "metadata": {
        "colab": {
          "base_uri": "https://localhost:8080/"
        },
        "id": "Kony7KeuSsT9",
        "outputId": "6de84a58-bc0d-4daf-a2d6-92cd912d6186"
      },
      "execution_count": null,
      "outputs": [
        {
          "output_type": "stream",
          "name": "stdout",
          "text": [
            "18 -2 0\n",
            "0 -2 -2\n",
            "6 7 18\n"
          ]
        }
      ]
    }
  ]
}